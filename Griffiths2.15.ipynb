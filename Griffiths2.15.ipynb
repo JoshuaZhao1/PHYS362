{
 "cells": [
  {
   "cell_type": "markdown",
   "metadata": {},
   "source": [
    "# Griffiths2.15\n",
    "\n",
    "## Problem statement\n",
    "In the ground state of the harmonic oscillator, what is the probability of finding the particle outside the classically allowed region? Hint: Classically, the energy of an oscillator is $E = (1/2)ka^2 = (1/2)m\\omega^2a^2$, where a is the amplitude. So the \"classically allowed region\" for an oscillator of energy E extends from $-\\sqrt{2E/m\\omega^2}$ to $+\\sqrt{2E/m\\omega^2}$. Look in a math table under \"Normal Distribution\" or \"Error Functioon\" for the numerical value of the integral.\n",
    "\n",
    "## Solution\n",
    "Equation 2.59 shows the ground state of the harmonic oscillator, which is \n",
    "$$\\psi_0(x) = (m\\omega/\\pi\\hbar)^{1/4}e^{-m\\omega x^2/2\\hbar}$$\n",
    "Because the wave function is even, it is fairly easy to calculate the probability.\n",
    "The probability of finding the particle outside of the classically allowed region is:\n",
    "$$P_{out} = 2\\int_{\\sqrt{2E/m\\omega^2}}^{+\\infty}\\psi_0^2 dx$$"
   ]
  },
  {
   "cell_type": "code",
   "execution_count": 6,
   "metadata": {
    "collapsed": false
   },
   "outputs": [
    {
     "data": {
      "image/png": "[encoded data removed]",
      "text/latex": [
       "$$\\frac{m^{0.25} \\omega^{0.25}}{\\hbar^{0.25} \\pi^{0.25}} e^{- \\frac{m \\omega x^{2}}{2 \\hbar}}$$"
      ],
      "text/plain": [
       "                                 2 \n",
       "                           -m⋅ω⋅x  \n",
       "                           ────────\n",
       " -0.25  -0.25  0.25  0.25    2⋅ℏ   \n",
       "ℏ     ⋅π     ⋅m    ⋅ω    ⋅ℯ        "
      ]
     },
     "execution_count": 6,
     "metadata": {},
     "output_type": "execute_result"
    }
   ],
   "source": [
    "import sympy as sp\n",
    "from sympy.physics.quantum.constants import hbar\n",
    "sp.init_printing()\n",
    "\n",
    "E, m, w = sp.symbols('E m omega', real=True, positive=True)\n",
    "x = sp.symbols('x', real=True)\n",
    "\n",
    "#define psi_0\n",
    "psi_0 = (m*w/sp.pi/hbar)**(1/4)*sp.exp(-m*w*x**2/2/hbar)\n",
    "psi_0"
   ]
  },
  {
   "cell_type": "code",
   "execution_count": 8,
   "metadata": {
    "collapsed": false
   },
   "outputs": [],
   "source": [
    "psi_0sq = sp.conjugate(psi_0)*psi_0"
   ]
  },
  {
   "cell_type": "code",
   "execution_count": 9,
   "metadata": {
    "collapsed": false
   },
   "outputs": [
    {
     "data": {
      "image/png": "[encoded data removed]",
      "text/latex": [
       "$$\\frac{\\sqrt{2} \\sqrt{E}}{\\hbar^{0.5} \\pi^{0.5} \\omega^{0.5}} \\left(- \\frac{\\sqrt{2} \\sqrt{\\hbar} \\sqrt{\\pi} \\sqrt{\\omega}}{2 \\sqrt{E}} \\operatorname{erf}{\\left (\\frac{\\sqrt{2} \\sqrt{E}}{\\sqrt{\\hbar} \\sqrt{\\omega}} \\right )} + \\frac{\\sqrt{2} \\sqrt{\\hbar} \\sqrt{\\pi} \\sqrt{\\omega}}{2 \\sqrt{E}}\\right)$$"
      ],
      "text/plain": [
       "                        ⎛                 ⎛√2⋅√E⎞              ⎞\n",
       "                        ⎜  √2⋅√ℏ⋅√π⋅√ω⋅erf⎜─────⎟              ⎟\n",
       "    -0.5  -0.5     -0.5 ⎜                 ⎝√ℏ⋅√ω⎠   √2⋅√ℏ⋅√π⋅√ω⎟\n",
       "√2⋅ℏ    ⋅π    ⋅√E⋅ω    ⋅⎜- ────────────────────── + ───────────⎟\n",
       "                        ⎝           2⋅√E                2⋅√E   ⎠"
      ]
     },
     "execution_count": 9,
     "metadata": {},
     "output_type": "execute_result"
    }
   ],
   "source": [
    "#define the outside probability\n",
    "P_out = 2*sp.integrate(psi_0sq, (x, sp.sqrt(2*E/m/w**2), sp.oo))\n",
    "P_out"
   ]
  },
  {
   "cell_type": "code",
   "execution_count": 10,
   "metadata": {
    "collapsed": false
   },
   "outputs": [
    {
     "data": {
      "image/png": "[encoded data removed]",
      "text/latex": [
       "$$- \\operatorname{erf}{\\left (\\frac{\\sqrt{2} \\sqrt{E}}{\\sqrt{\\hbar} \\sqrt{\\omega}} \\right )} + 1$$"
      ],
      "text/plain": [
       "     ⎛√2⋅√E⎞    \n",
       "- erf⎜─────⎟ + 1\n",
       "     ⎝√ℏ⋅√ω⎠    "
      ]
     },
     "execution_count": 10,
     "metadata": {},
     "output_type": "execute_result"
    }
   ],
   "source": [
    "sp.simplify(P_out)"
   ]
  },
  {
   "cell_type": "code",
   "execution_count": 22,
   "metadata": {
    "collapsed": false
   },
   "outputs": [
    {
     "data": {
      "image/png": "[encoded data removed]",
      "text/latex": [
       "$$- \\operatorname{erf}{\\left (1 \\right )} + 1$$"
      ],
      "text/plain": [
       "-erf(1) + 1"
      ]
     },
     "execution_count": 22,
     "metadata": {},
     "output_type": "execute_result"
    }
   ],
   "source": [
    "#In ground state: E = hbar*omega/2\n",
    "P_out = 2*sp.integrate(psi_0sq, (x, sp.sqrt(hbar*w/m/w**2), sp.oo))\n",
    "sp.simplify(P_out)"
   ]
  },
  {
   "cell_type": "code",
   "execution_count": 23,
   "metadata": {
    "collapsed": false
   },
   "outputs": [
    {
     "data": {
      "text/plain": [
       "mpf('0.15729920705028511')"
      ]
     },
     "execution_count": 23,
     "metadata": {},
     "output_type": "execute_result"
    }
   ],
   "source": [
    "from mpmath import *\n",
    "-erf(1)+1"
   ]
  },
  {
   "cell_type": "markdown",
   "metadata": {},
   "source": [
    "#### The probability of finding the particle outside the classically allowed region is about 0.157\n",
    "#### $$P_{out} = 0.157$$"
   ]
  },
  {
   "cell_type": "markdown",
   "metadata": {},
   "source": [
    "----\n",
    "\n",
    "## Portfolio references\n",
    "* 1.3\n",
    "\n",
    "## Index terms\n",
    "* Harmonic oscillator \n",
    "* Probability\n",
    "* Ground state\n",
    "* Classically allowed region\n",
    "* Parity\n",
    "\n",
    "## Book references\n",
    "\n",
    "* Eq 2.59, Eq 2.60\n",
    "\n",
    "## External references\n"
   ]
  },
  {
   "cell_type": "code",
   "execution_count": null,
   "metadata": {
    "collapsed": true
   },
   "outputs": [],
   "source": []
  }
 ],
 "metadata": {
  "anaconda-cloud": {},
  "kernelspec": {
   "display_name": "Python [conda env:PHYS362]",
   "language": "python",
   "name": "conda-env-PHYS362-py"
  },
  "language_info": {
   "codemirror_mode": {
    "name": "ipython",
    "version": 3
   },
   "file_extension": ".py",
   "mimetype": "text/x-python",
   "name": "python",
   "nbconvert_exporter": "python",
   "pygments_lexer": "ipython3",
   "version": "3.5.2"
  }
 },
 "nbformat": 4,
 "nbformat_minor": 0
}
