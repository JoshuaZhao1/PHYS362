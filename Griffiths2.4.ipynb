{
 "cells": [
  {
   "cell_type": "markdown",
   "metadata": {},
   "source": [
    "# Griffiths  2.4\n",
    "\n",
    "## Problem statement\n",
    "\n",
    "Calculate $\\langle x\\rangle$, $\\langle x^2\\rangle$,$\\langle p\\rangle$, $\\langle p^2\\rangle$, $\\sigma_x$, $\\sigma_p$, for the nth stationary state of the infinite square well. Check that the uncertainty principle is satisfied. Which state closest to the uncertainty limit.\n",
    "\n",
    "## Solution\n",
    "The nth stationary state of the infinite square well is given by eq 2.35\n",
    "$$\\Psi_n(x,t) = \\sqrt{2/a}sin(n\\pi x/a)e^{-i(n^2\\pi^2\\hbar/2ma^2)t}$$"
   ]
  },
  {
   "cell_type": "code",
   "execution_count": 2,
   "metadata": {
    "collapsed": false
   },
   "outputs": [
    {
     "data": {
      "image/png": "[encoded data removed]",
      "text/latex": [
       "$$\\frac{\\sqrt{2}}{\\sqrt{a}} e^{- \\frac{\\hbar i \\pi^{2} n^{2} t}{2 a^{2} m}} \\sin{\\left (\\frac{\\pi n}{a} x \\right )}$$"
      ],
      "text/plain": [
       "          2  2              \n",
       "    -ℏ⋅ⅈ⋅π ⋅n ⋅t            \n",
       "    ─────────────           \n",
       "           2                \n",
       "        2⋅a ⋅m       ⎛π⋅n⋅x⎞\n",
       "√2⋅ℯ             ⋅sin⎜─────⎟\n",
       "                     ⎝  a  ⎠\n",
       "────────────────────────────\n",
       "             √a             "
      ]
     },
     "execution_count": 2,
     "metadata": {},
     "output_type": "execute_result"
    }
   ],
   "source": [
    "import sympy as sp\n",
    "from sympy.physics.quantum.constants import hbar\n",
    "sp.init_printing()\n",
    "\n",
    "a, n, x, m, t = sp.symbols('a n x m t', real=True, positive=True)\n",
    "n = sp.symbols('n', integer=True)\n",
    "\n",
    "#define Psi\n",
    "Psi = sp.sqrt(2/a)*sp.sin(n*sp.pi*x/a)*sp.exp(-sp.I*(n**2*sp.pi**2*hbar/2/m/a**2)*t)\n",
    "Psi"
   ]
  },
  {
   "cell_type": "code",
   "execution_count": 3,
   "metadata": {
    "collapsed": false
   },
   "outputs": [],
   "source": [
    "Psisq = sp.conjugate(Psi)*Psi"
   ]
  },
  {
   "cell_type": "markdown",
   "metadata": {},
   "source": [
    "### Calculate the expectation values"
   ]
  },
  {
   "cell_type": "code",
   "execution_count": 4,
   "metadata": {
    "collapsed": false
   },
   "outputs": [
    {
     "data": {
      "text/latex": [
       "$$- \\frac{2}{a} \\begin{cases} 0 & \\text{for}\\: n = 0 \\\\- \\frac{a^{2}}{4 \\pi^{2} n^{2}} & \\text{otherwise} \\end{cases} + \\frac{2}{a} \\begin{cases} 0 & \\text{for}\\: n = 0 \\\\\\frac{a^{2}}{4} - \\frac{a^{2}}{4 \\pi^{2} n^{2}} & \\text{otherwise} \\end{cases}$$"
      ],
      "text/plain": [
       "    ⎛⎧   0     for n = 0⎞     ⎛⎧     0        for n = 0⎞\n",
       "    ⎜⎪                  ⎟     ⎜⎪                       ⎟\n",
       "    ⎜⎪    2             ⎟     ⎜⎪ 2       2             ⎟\n",
       "  2⋅⎜⎨  -a              ⎟   2⋅⎜⎨a       a              ⎟\n",
       "    ⎜⎪───────  otherwise⎟     ⎜⎪── - ───────  otherwise⎟\n",
       "    ⎜⎪   2  2           ⎟     ⎜⎪4       2  2           ⎟\n",
       "    ⎝⎩4⋅π ⋅n            ⎠     ⎝⎩     4⋅π ⋅n            ⎠\n",
       "- ─────────────────────── + ────────────────────────────\n",
       "             a                           a              "
      ]
     },
     "execution_count": 4,
     "metadata": {},
     "output_type": "execute_result"
    }
   ],
   "source": [
    "expectvx = sp.integrate(Psisq*x, (x, 0, a))\n",
    "expectvx"
   ]
  },
  {
   "cell_type": "code",
   "execution_count": 5,
   "metadata": {
    "collapsed": false
   },
   "outputs": [
    {
     "data": {
      "text/latex": [
       "$$\\begin{cases} 0 & \\text{for}\\: n = 0 \\\\\\frac{a}{2} & \\text{otherwise} \\end{cases}$$"
      ],
      "text/plain": [
       "⎧0  for n = 0\n",
       "⎪            \n",
       "⎨a           \n",
       "⎪─  otherwise\n",
       "⎩2           "
      ]
     },
     "execution_count": 5,
     "metadata": {},
     "output_type": "execute_result"
    }
   ],
   "source": [
    "# Expectation value of x\n",
    "sp.simplify(expectvx)"
   ]
  },
  {
   "cell_type": "code",
   "execution_count": 6,
   "metadata": {
    "collapsed": false
   },
   "outputs": [
    {
     "data": {
      "text/latex": [
       "$$\\begin{cases} 0 & \\text{for}\\: n = 0 \\\\\\frac{a^{2}}{3} - \\frac{a^{2}}{2 \\pi^{2} n^{2}} & \\text{otherwise} \\end{cases}$$"
      ],
      "text/plain": [
       "⎧     0        for n = 0\n",
       "⎪                       \n",
       "⎪ 2       2             \n",
       "⎨a       a              \n",
       "⎪── - ───────  otherwise\n",
       "⎪3       2  2           \n",
       "⎩     2⋅π ⋅n            "
      ]
     },
     "execution_count": 6,
     "metadata": {},
     "output_type": "execute_result"
    }
   ],
   "source": [
    "# Expectation value of x^2\n",
    "expectvx2 = sp.integrate(Psisq*x**2, (x, 0, a))\n",
    "sp.simplify(expectvx2)"
   ]
  },
  {
   "cell_type": "markdown",
   "metadata": {},
   "source": [
    "We can take the derivative of $\\langle x\\rangle$ with respect to time to get $\\langle p\\rangle$, and use the momentum operator to get $\\langle p^2\\rangle$"
   ]
  },
  {
   "cell_type": "code",
   "execution_count": 8,
   "metadata": {
    "collapsed": false
   },
   "outputs": [
    {
     "data": {
      "image/png": "[encoded data removed]",
      "text/latex": [
       "$$0$$"
      ],
      "text/plain": [
       "0"
      ]
     },
     "execution_count": 8,
     "metadata": {},
     "output_type": "execute_result"
    }
   ],
   "source": [
    "# Expectation value of p\n",
    "expectvp = m*sp.diff(expectvx, t)\n",
    "expectvp"
   ]
  },
  {
   "cell_type": "code",
   "execution_count": 9,
   "metadata": {
    "collapsed": false
   },
   "outputs": [
    {
     "data": {
      "text/latex": [
       "$$\\begin{cases} 0 & \\text{for}\\: \\frac{\\pi n}{a} = 0 \\\\\\frac{\\pi^{2} n^{2}}{a^{2}} \\hbar^{2} & \\text{otherwise} \\end{cases}$$"
      ],
      "text/plain": [
       "⎧              π⋅n    \n",
       "⎪   0      for ─── = 0\n",
       "⎪               a     \n",
       "⎪                     \n",
       "⎨ 2  2  2             \n",
       "⎪ℏ ⋅π ⋅n              \n",
       "⎪────────   otherwise \n",
       "⎪    2                \n",
       "⎩   a                 "
      ]
     },
     "execution_count": 9,
     "metadata": {},
     "output_type": "execute_result"
    }
   ],
   "source": [
    "#Expectation value of p^2\n",
    "expectvp2 = -(hbar**2)*sp.integrate(sp.conjugate(Psi)*sp.diff(Psi, x, 2), (x, 0, a))\n",
    "sp.simplify(expectvp2)"
   ]
  },
  {
   "cell_type": "markdown",
   "metadata": {
    "collapsed": false
   },
   "source": [
    "#### Calculate $\\sigma_x$ and $\\sigma_p$"
   ]
  },
  {
   "cell_type": "code",
   "execution_count": 12,
   "metadata": {
    "collapsed": false
   },
   "outputs": [
    {
     "data": {
      "text/latex": [
       "$$\\begin{cases} 0 & \\text{for}\\: n = 0 \\\\\\frac{\\sqrt{2}}{a} \\sqrt{\\frac{a^{4}}{24} - \\frac{a^{4}}{4 \\pi^{2} n^{2}}} & \\text{otherwise} \\end{cases}$$"
      ],
      "text/plain": [
       "⎧           0             for n = 0\n",
       "⎪                                  \n",
       "⎪         ______________           \n",
       "⎪        ╱  4       4              \n",
       "⎪       ╱  a       a               \n",
       "⎨√2⋅   ╱   ── - ───────            \n",
       "⎪     ╱    24      2  2            \n",
       "⎪   ╲╱          4⋅π ⋅n             \n",
       "⎪───────────────────────  otherwise\n",
       "⎪           a                      \n",
       "⎩                                  "
      ]
     },
     "execution_count": 12,
     "metadata": {},
     "output_type": "execute_result"
    }
   ],
   "source": [
    "sigma_x = sp.sqrt(expectvx2 - (expectvx**2))\n",
    "sp.simplify(sigma_x)"
   ]
  },
  {
   "cell_type": "code",
   "execution_count": 13,
   "metadata": {
    "collapsed": false
   },
   "outputs": [
    {
     "data": {
      "text/latex": [
       "$$\\begin{cases} 0 & \\text{for}\\: \\frac{\\pi n}{a} = 0 \\\\\\frac{\\pi \\left|{n}\\right|}{a} \\hbar & \\text{otherwise} \\end{cases}$$"
      ],
      "text/plain": [
       "⎧             π⋅n    \n",
       "⎪   0     for ─── = 0\n",
       "⎪              a     \n",
       "⎨                    \n",
       "⎪ℏ⋅π⋅│n│             \n",
       "⎪───────   otherwise \n",
       "⎩   a                "
      ]
     },
     "execution_count": 13,
     "metadata": {},
     "output_type": "execute_result"
    }
   ],
   "source": [
    "sigma_p = sp.sqrt(expectvp2 - expectvp**2)\n",
    "sigma_p.simplify()"
   ]
  },
  {
   "cell_type": "markdown",
   "metadata": {
    "collapsed": false
   },
   "source": [
    "### Check the uncertainty principle"
   ]
  },
  {
   "cell_type": "code",
   "execution_count": 22,
   "metadata": {
    "collapsed": false
   },
   "outputs": [
    {
     "data": {
      "text/latex": [
       "$$\\begin{cases} 0 & \\text{for}\\: n = 0 \\\\\\begin{cases} 0 & \\text{for}\\: \\frac{\\pi n}{a} = 0 \\\\\\frac{\\sqrt{3} \\pi}{6} \\hbar \\sqrt{-3 + \\frac{1}{\\pi^{2} n^{2}} \\left(4 \\pi^{2} n^{2} - 6\\right)} \\left|{n}\\right| & \\text{otherwise} \\end{cases} & \\text{otherwise} \\end{cases}$$"
      ],
      "text/plain": [
       "⎧                          0                            for n = 0\n",
       "⎪                                                                \n",
       "⎪⎧                                             π⋅n               \n",
       "⎪⎪                   0                     for ─── = 0           \n",
       "⎪⎪                                              a                \n",
       "⎪⎪                                                               \n",
       "⎪⎪             ______________________                            \n",
       "⎨⎪            ╱        ⎛   2  2    ⎞                             \n",
       "⎪⎨           ╱       2⋅⎝2⋅π ⋅n  - 3⎠                    otherwise\n",
       "⎪⎪√3⋅ℏ⋅π⋅   ╱   -3 + ─────────────── ⋅│n│                        \n",
       "⎪⎪         ╱               2  2                                  \n",
       "⎪⎪       ╲╱               π ⋅n                                   \n",
       "⎪⎪───────────────────────────────────────   otherwise            \n",
       "⎪⎪                   6                                           \n",
       "⎩⎩                                                               "
      ]
     },
     "execution_count": 22,
     "metadata": {},
     "output_type": "execute_result"
    }
   ],
   "source": [
    "sp.simplify(sigma_x*sigma_p)"
   ]
  },
  {
   "cell_type": "markdown",
   "metadata": {},
   "source": [
    "We can tell from the equation that as n goes up, the value of $\\sigma_x\\sigma_p$ increases. So the closest value to the uncertainty limit would be when n = 1"
   ]
  },
  {
   "cell_type": "markdown",
   "metadata": {},
   "source": [
    "Therefore the ground state $\\psi_1$ is the closest state to the uncertainty limit."
   ]
  },
  {
   "cell_type": "markdown",
   "metadata": {},
   "source": [
    "----\n",
    "\n",
    "## Portfolio references\n",
    "    Problem 1.5\n",
    "    Problem 1.9\n",
    "    Problem 1.3\n",
    "\n",
    "## Index terms\n",
    "    Wave function\n",
    "    Expectation values\n",
    "    Probability\n",
    "    Uncertainty principle\n",
    "    Momentum operator \n",
    "\n",
    "## Book references\n",
    "    eq 2.35\n",
    "\n",
    "## External references"
   ]
  },
  {
   "cell_type": "code",
   "execution_count": null,
   "metadata": {
    "collapsed": true
   },
   "outputs": [],
   "source": []
  }
 ],
 "metadata": {
  "anaconda-cloud": {},
  "kernelspec": {
   "display_name": "Python [conda env:physics362]",
   "language": "python",
   "name": "conda-env-physics362-py"
  },
  "language_info": {
   "codemirror_mode": {
    "name": "ipython",
    "version": 3
   },
   "file_extension": ".py",
   "mimetype": "text/x-python",
   "name": "python",
   "nbconvert_exporter": "python",
   "pygments_lexer": "ipython3",
   "version": "3.5.2"
  }
 },
 "nbformat": 4,
 "nbformat_minor": 0
}
